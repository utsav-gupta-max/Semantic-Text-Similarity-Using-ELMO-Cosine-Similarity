{
  "nbformat": 4,
  "nbformat_minor": 0,
  "metadata": {
    "colab": {
      "name": "Precily_STS.ipynb",
      "provenance": [],
      "toc_visible": true
    },
    "kernelspec": {
      "name": "python3",
      "display_name": "Python 3"
    },
    "accelerator": "GPU"
  },
  "cells": [
    {
      "cell_type": "code",
      "metadata": {
        "id": "5_qDWiN-FPEA",
        "colab_type": "code",
        "outputId": "a508eb49-f45a-464f-e9f6-136ac2d378b7",
        "colab": {
          "base_uri": "https://localhost:8080/",
          "height": 62
        }
      },
      "source": [
        "# importing required liabraries\n",
        "import tensorflow_hub as hub\n",
        "import tensorflow as tf\n",
        "from sklearn.metrics.pairwise import cosine_similarity\n",
        "import pandas as pd\n",
        "import csv\n",
        "import nltk"
      ],
      "execution_count": 1,
      "outputs": [
        {
          "output_type": "display_data",
          "data": {
            "text/html": [
              "<p style=\"color: red;\">\n",
              "The default version of TensorFlow in Colab will soon switch to TensorFlow 2.x.<br>\n",
              "We recommend you <a href=\"https://www.tensorflow.org/guide/migrate\" target=\"_blank\">upgrade</a> now \n",
              "or ensure your notebook will continue to use TensorFlow 1.x via the <code>%tensorflow_version 1.x</code> magic:\n",
              "<a href=\"https://colab.research.google.com/notebooks/tensorflow_version.ipynb\" target=\"_blank\">more info</a>.</p>\n"
            ],
            "text/plain": [
              "<IPython.core.display.HTML object>"
            ]
          },
          "metadata": {
            "tags": []
          }
        }
      ]
    },
    {
      "cell_type": "code",
      "metadata": {
        "id": "CH3krziNFaka",
        "colab_type": "code",
        "colab": {}
      },
      "source": [
        "#Inintializing ELMO embeddinf from Tensorflow Hub\n",
        "\n",
        "elmo = hub.Module(\"https://tfhub.dev/google/elmo/3\", trainable=True)"
      ],
      "execution_count": 0,
      "outputs": []
    },
    {
      "cell_type": "code",
      "metadata": {
        "id": "xwZXSNo6gZe-",
        "colab_type": "code",
        "outputId": "48d0b76b-f95c-43dc-cf20-d65604721074",
        "colab": {
          "base_uri": "https://localhost:8080/",
          "height": 53
        }
      },
      "source": [
        "#Connecting to Google Drive\n",
        "\n",
        "from google.colab import drive\n",
        "drive.mount('/content/drive')"
      ],
      "execution_count": 3,
      "outputs": [
        {
          "output_type": "stream",
          "text": [
            "Drive already mounted at /content/drive; to attempt to forcibly remount, call drive.mount(\"/content/drive\", force_remount=True).\n"
          ],
          "name": "stdout"
        }
      ]
    },
    {
      "cell_type": "code",
      "metadata": {
        "id": "Jdhu7vx4FGts",
        "colab_type": "code",
        "colab": {}
      },
      "source": [
        "#Reading Dataset from Google Drive\n",
        "df=pd.read_csv(\"/content/drive/My Drive/Precily/Text_Similarity_Dataset.csv\")"
      ],
      "execution_count": 0,
      "outputs": []
    },
    {
      "cell_type": "code",
      "metadata": {
        "id": "Di6727UCbfkC",
        "colab_type": "code",
        "colab": {
          "base_uri": "https://localhost:8080/",
          "height": 196
        },
        "outputId": "deff9dc0-06f0-42c5-9c51-617fb4114ca7"
      },
      "source": [
        "#Showing top 5 tuple of the dataframe\n",
        "df.head()"
      ],
      "execution_count": 5,
      "outputs": [
        {
          "output_type": "execute_result",
          "data": {
            "text/html": [
              "<div>\n",
              "<style scoped>\n",
              "    .dataframe tbody tr th:only-of-type {\n",
              "        vertical-align: middle;\n",
              "    }\n",
              "\n",
              "    .dataframe tbody tr th {\n",
              "        vertical-align: top;\n",
              "    }\n",
              "\n",
              "    .dataframe thead th {\n",
              "        text-align: right;\n",
              "    }\n",
              "</style>\n",
              "<table border=\"1\" class=\"dataframe\">\n",
              "  <thead>\n",
              "    <tr style=\"text-align: right;\">\n",
              "      <th></th>\n",
              "      <th>Unique_ID</th>\n",
              "      <th>text1</th>\n",
              "      <th>text2</th>\n",
              "    </tr>\n",
              "  </thead>\n",
              "  <tbody>\n",
              "    <tr>\n",
              "      <th>0</th>\n",
              "      <td>0</td>\n",
              "      <td>savvy searchers fail to spot ads internet sear...</td>\n",
              "      <td>newcastle 2-1 bolton kieron dyer smashed home ...</td>\n",
              "    </tr>\n",
              "    <tr>\n",
              "      <th>1</th>\n",
              "      <td>1</td>\n",
              "      <td>millions to miss out on the net by 2025  40% o...</td>\n",
              "      <td>nasdaq planning $100m share sale the owner of ...</td>\n",
              "    </tr>\n",
              "    <tr>\n",
              "      <th>2</th>\n",
              "      <td>2</td>\n",
              "      <td>young debut cut short by ginepri fifteen-year-...</td>\n",
              "      <td>ruddock backs yapp s credentials wales coach m...</td>\n",
              "    </tr>\n",
              "    <tr>\n",
              "      <th>3</th>\n",
              "      <td>3</td>\n",
              "      <td>diageo to buy us wine firm diageo  the world s...</td>\n",
              "      <td>mci shares climb on takeover bid shares in us ...</td>\n",
              "    </tr>\n",
              "    <tr>\n",
              "      <th>4</th>\n",
              "      <td>4</td>\n",
              "      <td>be careful how you code a new european directi...</td>\n",
              "      <td>media gadgets get moving pocket-sized devices ...</td>\n",
              "    </tr>\n",
              "  </tbody>\n",
              "</table>\n",
              "</div>"
            ],
            "text/plain": [
              "   Unique_ID  ...                                              text2\n",
              "0          0  ...  newcastle 2-1 bolton kieron dyer smashed home ...\n",
              "1          1  ...  nasdaq planning $100m share sale the owner of ...\n",
              "2          2  ...  ruddock backs yapp s credentials wales coach m...\n",
              "3          3  ...  mci shares climb on takeover bid shares in us ...\n",
              "4          4  ...  media gadgets get moving pocket-sized devices ...\n",
              "\n",
              "[5 rows x 3 columns]"
            ]
          },
          "metadata": {
            "tags": []
          },
          "execution_count": 5
        }
      ]
    },
    {
      "cell_type": "code",
      "metadata": {
        "id": "7J4QjzWElj6a",
        "colab_type": "code",
        "colab": {
          "base_uri": "https://localhost:8080/",
          "height": 84
        },
        "outputId": "207f1a29-4ed5-4111-c8b1-cee1309b7dd5"
      },
      "source": [
        "# Checking dataset for null values  \n",
        "\n",
        "df.isnull().sum()"
      ],
      "execution_count": 6,
      "outputs": [
        {
          "output_type": "execute_result",
          "data": {
            "text/plain": [
              "Unique_ID    0\n",
              "text1        0\n",
              "text2        0\n",
              "dtype: int64"
            ]
          },
          "metadata": {
            "tags": []
          },
          "execution_count": 6
        }
      ]
    },
    {
      "cell_type": "code",
      "metadata": {
        "id": "8bS6NThuFx5_",
        "colab_type": "code",
        "outputId": "10120aa2-e16e-4e8f-ed62-cb5abc19a7de",
        "colab": {
          "base_uri": "https://localhost:8080/",
          "height": 67
        }
      },
      "source": [
        "#Converting dataframe to list columwise \n",
        "\n",
        "txt1=df['text1'].values.tolist()\n",
        "txt2=df['text2'].values.tolist()\n",
        "\n",
        "\n",
        "\n",
        "print('Total Tuples in Dataframe is ',len(df))\n",
        "print('Total Tuples in Text1 is ',len(txt1))\n",
        "print('Total Tuples in Text2 is ',len(txt2))"
      ],
      "execution_count": 7,
      "outputs": [
        {
          "output_type": "stream",
          "text": [
            "Total Tuples in Dataframe is  4023\n",
            "Total Tuples in Text1 is  4023\n",
            "Total Tuples in Text2 is  4023\n"
          ],
          "name": "stdout"
        }
      ]
    },
    {
      "cell_type": "code",
      "metadata": {
        "id": "_JzTpSpXzpTT",
        "colab_type": "code",
        "outputId": "c8d2ae0d-7be7-4564-9e62-aa793058bbf7",
        "colab": {
          "base_uri": "https://localhost:8080/",
          "height": 134
        }
      },
      "source": [
        "#Downloading required data for preprocessing\n",
        "\n",
        "nltk.download('punkt')\n",
        "nltk.download('wordnet')\n",
        "nltk.download('stopwords')"
      ],
      "execution_count": 8,
      "outputs": [
        {
          "output_type": "stream",
          "text": [
            "[nltk_data] Downloading package punkt to /root/nltk_data...\n",
            "[nltk_data]   Unzipping tokenizers/punkt.zip.\n",
            "[nltk_data] Downloading package wordnet to /root/nltk_data...\n",
            "[nltk_data]   Unzipping corpora/wordnet.zip.\n",
            "[nltk_data] Downloading package stopwords to /root/nltk_data...\n",
            "[nltk_data]   Unzipping corpora/stopwords.zip.\n"
          ],
          "name": "stdout"
        },
        {
          "output_type": "execute_result",
          "data": {
            "text/plain": [
              "True"
            ]
          },
          "metadata": {
            "tags": []
          },
          "execution_count": 8
        }
      ]
    },
    {
      "cell_type": "code",
      "metadata": {
        "id": "EknWxO2CZjbK",
        "colab_type": "code",
        "colab": {}
      },
      "source": [
        "from nltk.tokenize import word_tokenize # To tokenize sentence to words\n",
        "from nltk.stem import WordNetLemmatizer # To Lemmatize word\n",
        "from nltk.corpus import stopwords       # Common stopwords"
      ],
      "execution_count": 0,
      "outputs": []
    },
    {
      "cell_type": "code",
      "metadata": {
        "id": "3cqRg-uBz2Vp",
        "colab_type": "code",
        "colab": {}
      },
      "source": [
        "stopwords=set(stopwords.words(\"english\")) # Loading stopwords to variable\n",
        "lemmatizer=WordNetLemmatizer() # Initializing lemmatizer"
      ],
      "execution_count": 0,
      "outputs": []
    },
    {
      "cell_type": "code",
      "metadata": {
        "id": "4WCWVoWOZjV-",
        "colab_type": "code",
        "colab": {}
      },
      "source": [
        "def stopword(sentence): # Funtion to remove stopwords from text.\n",
        "    token_words=word_tokenize(sentence)\n",
        "    token_words\n",
        "    stop_sentence=[]\n",
        "    for word in token_words:\n",
        "      if word not in stopwords:\n",
        "        stop_sentence.append(word)\n",
        "        stop_sentence.append(\" \")\n",
        "    return \"\".join(stop_sentence)\n",
        "\n",
        "\n",
        "def lemm(sentence): # Funtion to lemmatize text.\n",
        "    token_words=word_tokenize(sentence)\n",
        "    token_words\n",
        "    stem_sentence=[]\n",
        "    for word in token_words:\n",
        "        stem_sentence.append(lemmatizer.lemmatize(word))\n",
        "        stem_sentence.append(\" \")\n",
        "    return \"\".join(stem_sentence)\n",
        "\n",
        "def preprocess(sentence): # Funtion to preprocess text.\n",
        "    return lemm(stopword(sentence))\n",
        "\n"
      ],
      "execution_count": 0,
      "outputs": []
    },
    {
      "cell_type": "code",
      "metadata": {
        "id": "EkWS18sOdBGe",
        "colab_type": "code",
        "colab": {}
      },
      "source": [
        "# Preprocess text and saving to other list\n",
        "\n",
        "text1=[]\n",
        "text2=[]\n",
        "\n",
        "for i in range(len(df)):\n",
        "  text1.append(preprocess(txt1[i]))\n",
        "  text2.append(preprocess(txt2[i]))\n"
      ],
      "execution_count": 0,
      "outputs": []
    },
    {
      "cell_type": "code",
      "metadata": {
        "id": "tDpw_53Qj00F",
        "colab_type": "code",
        "outputId": "d1a27578-18e8-4792-efa7-1fe9eadc5afb",
        "colab": {
          "base_uri": "https://localhost:8080/",
          "height": 104
        }
      },
      "source": [
        "print(\"Text before preprocessing\")\n",
        "print(txt1[0])\n",
        "\n",
        "print(\"Text After preprocessing\")\n",
        "print(text1[0])"
      ],
      "execution_count": 14,
      "outputs": [
        {
          "output_type": "stream",
          "text": [
            "Text before preprocessing\n",
            "savvy searchers fail to spot ads internet search engine users are an odd mix of naive and sophisticated  suggests a report into search habits.  the report by the us pew research center reveals that 87% of searchers usually find what they were looking for when using a search engine. it also shows that few can spot the difference between paid-for results and organic ones. the report reveals that 84% of net users say they regularly use google  ask jeeves  msn and yahoo when online.  almost 50% of those questioned said they would trust search engines much less  if they knew information about who paid for results was being hidden. according to figures gathered by the pew researchers the average users spends about 43 minutes per month carrying out 34 separate searches and looks at 1.9 webpages for each hunt. a significant chunk of net users  36%  carry out a search at least weekly and 29% of those asked only look every few weeks. for 44% of those questioned  the information they are looking for is critical to what they are doing and is information they simply have to find.  search engine users also tend to be very loyal and once they have found a site they feel they can trust tend to stick with it. according to pew research 44% of searchers use just a single search engine  48% use two or three and a small number  7%  consult more than three sites. tony macklin  spokesman for ask jeeves  said the results reflected its own research which showed that people use different search engines because the way the sites gather information means they can provide different results for the same query. despite this liking for search sites half of those questioned said they could get the same information via other routes. a small number  17%  said they wouldn t really miss search engines if they did not exist. the remaining 33% said they could not live without search sites. more than two-thirds of those questioned  68%  said they thought that the results they were presented with were a fair and unbiased selection of the information on a topic that can be found on the net. alongside the growing sophistication of net users is a lack of awareness about paid-for results that many search engines provide alongside lists of websites found by indexing the web. of those asked  62% were unaware that someone has paid for some of the results they see when they carry out a search. only 18% of all searchers say they can tell which results are paid for and which are not. said the pew report:  this finding is ironic  since nearly half of all users say they would stop using search engines if they thought engines were not being clear about how they presented paid results.  commenting mr macklin said sponsored results must be clearly marked and though they might help with some queries user testing showed that people need to be able to spot the difference.\n",
            "Text After preprocessing\n",
            "savvy searcher fail spot ad internet search engine user odd mix naive sophisticated suggests report search habit . report u pew research center reveals 87 % searcher usually find looking using search engine . also show spot difference paid-for result organic one . report reveals 84 % net user say regularly use google ask jeeves msn yahoo online . almost 50 % questioned said would trust search engine much le knew information paid result hidden . according figure gathered pew researcher average user spends 43 minute per month carrying 34 separate search look 1.9 webpage hunt . significant chunk net user 36 % carry search least weekly 29 % asked look every week . 44 % questioned information looking critical information simply find . search engine user also tend loyal found site feel trust tend stick . according pew research 44 % searcher use single search engine 48 % use two three small number 7 % consult three site . tony macklin spokesman ask jeeves said result reflected research showed people use different search engine way site gather information mean provide different result query . despite liking search site half questioned said could get information via route . small number 17 % said really miss search engine exist . remaining 33 % said could live without search site . two-thirds questioned 68 % said thought result presented fair unbiased selection information topic found net . alongside growing sophistication net user lack awareness paid-for result many search engine provide alongside list website found indexing web . asked 62 % unaware someone paid result see carry search . 18 % searcher say tell result paid . said pew report : finding ironic since nearly half user say would stop using search engine thought engine clear presented paid result . commenting mr macklin said sponsored result must clearly marked though might help query user testing showed people need able spot difference . \n"
          ],
          "name": "stdout"
        }
      ]
    },
    {
      "cell_type": "markdown",
      "metadata": {
        "id": "2uduiNtfKnlr",
        "colab_type": "text"
      },
      "source": [
        "# Using Elmo embedding"
      ]
    },
    {
      "cell_type": "code",
      "metadata": {
        "id": "pBp7TReXIKrg",
        "colab_type": "code",
        "colab": {}
      },
      "source": [
        "# Converting text to vector using ELMO on Tensorflow Hub\n",
        "\n",
        "def elmo_vectors(x):\n",
        "   \n",
        "  embeddings=elmo(x, signature=\"default\", as_dict=True)[\"elmo\"]\n",
        "  \n",
        "  with tf.Session() as sess:\n",
        "    sess.run(tf.global_variables_initializer())\n",
        "    sess.run(tf.tables_initializer())\n",
        "    # return average of ELMo features\n",
        "    return sess.run(tf.reduce_mean(embeddings,1))"
      ],
      "execution_count": 0,
      "outputs": []
    },
    {
      "cell_type": "code",
      "metadata": {
        "colab_type": "code",
        "id": "ggux2I1KAJF3",
        "colab": {}
      },
      "source": [
        "import gc\n",
        "from tqdm import tnrange\n",
        "csv_filename = 'Semantic_Record'\n",
        "elmo_embeddings_text1=[]\n",
        "elmo_embeddings_text2=[]\n",
        "simlarity=[]\n",
        "simlarity_matrix=[]\n",
        "\n",
        "\n",
        "for i in tnrange(len(df)):\n",
        "  \n",
        "    #Computing vector and calculating simlarity using cosin simlarity\n",
        "    \n",
        "    elmo_embeddings_text1.append(elmo_vectors([text1[i]])[0])\n",
        "    elmo_embeddings_text2.append(elmo_vectors([text2[i]])[0])\n",
        "    simlarity_matrix=cosine_similarity(elmo_embeddings_text1, elmo_embeddings_text2)\n",
        "    simlarity.append(float (simlarity_matrix[0]))\n",
        "    simlarity[0]=round((simlarity[0]-1)*(-1),4)\n",
        "    \n",
        "    with open(csv_filename,'a', newline='') as simlarity_file:\n",
        "        writer = csv.writer(simlarity_file)\n",
        "        writer.writerow(simlarity) #Saving simlarity of text in csv file\n",
        "    del simlarity[:]\n",
        "    del simlarity_matrix\n",
        "    del elmo_embeddings_text1[:]\n",
        "    del elmo_embeddings_text2[:]\n",
        "    gc.collect()                  #Garbage collection to free memory "
      ],
      "execution_count": 0,
      "outputs": []
    },
    {
      "cell_type": "code",
      "metadata": {
        "id": "q1zr-oim-Vnr",
        "colab_type": "code",
        "colab": {
          "base_uri": "https://localhost:8080/",
          "height": 196
        },
        "outputId": "fd840c65-4739-4860-b8c7-352d0e0d079e"
      },
      "source": [
        "# Reading Simlarity values computed above\n",
        "\n",
        "Semantic_Record=pd.read_csv(\"Semantic_Record.csv\")\n",
        "\n",
        "# Top 5 values of dataset\n",
        "\n",
        "Semantic_Record.head()"
      ],
      "execution_count": 17,
      "outputs": [
        {
          "output_type": "execute_result",
          "data": {
            "text/html": [
              "<div>\n",
              "<style scoped>\n",
              "    .dataframe tbody tr th:only-of-type {\n",
              "        vertical-align: middle;\n",
              "    }\n",
              "\n",
              "    .dataframe tbody tr th {\n",
              "        vertical-align: top;\n",
              "    }\n",
              "\n",
              "    .dataframe thead th {\n",
              "        text-align: right;\n",
              "    }\n",
              "</style>\n",
              "<table border=\"1\" class=\"dataframe\">\n",
              "  <thead>\n",
              "    <tr style=\"text-align: right;\">\n",
              "      <th></th>\n",
              "      <th>Simlarity</th>\n",
              "    </tr>\n",
              "  </thead>\n",
              "  <tbody>\n",
              "    <tr>\n",
              "      <th>0</th>\n",
              "      <td>0.4825</td>\n",
              "    </tr>\n",
              "    <tr>\n",
              "      <th>1</th>\n",
              "      <td>0.2848</td>\n",
              "    </tr>\n",
              "    <tr>\n",
              "      <th>2</th>\n",
              "      <td>0.2401</td>\n",
              "    </tr>\n",
              "    <tr>\n",
              "      <th>3</th>\n",
              "      <td>0.2284</td>\n",
              "    </tr>\n",
              "    <tr>\n",
              "      <th>4</th>\n",
              "      <td>0.2128</td>\n",
              "    </tr>\n",
              "  </tbody>\n",
              "</table>\n",
              "</div>"
            ],
            "text/plain": [
              "   Simlarity\n",
              "0     0.4825\n",
              "1     0.2848\n",
              "2     0.2401\n",
              "3     0.2284\n",
              "4     0.2128"
            ]
          },
          "metadata": {
            "tags": []
          },
          "execution_count": 17
        }
      ]
    },
    {
      "cell_type": "code",
      "metadata": {
        "id": "jI2rp9L6DB21",
        "colab_type": "code",
        "colab": {
          "base_uri": "https://localhost:8080/",
          "height": 33
        },
        "outputId": "e7351f38-534a-44a0-a710-3ab260136364"
      },
      "source": [
        "# Storing simlarity values in list\n",
        "\n",
        "simlarity=Semantic_Record['Simlarity'].values.tolist()\n",
        "print(\"Total number of simlarity count is\",len(simlarity))\n"
      ],
      "execution_count": 27,
      "outputs": [
        {
          "output_type": "stream",
          "text": [
            "Total number of simlarity count is 4023\n"
          ],
          "name": "stdout"
        }
      ]
    },
    {
      "cell_type": "code",
      "metadata": {
        "id": "N6u9KeTpXE66",
        "colab_type": "code",
        "colab": {}
      },
      "source": [
        "# Storing Unique_ID values in list\n",
        "\n",
        "unique=df['Unique_ID'].values.tolist()\n",
        "\n",
        "# Ziping both the list in a dataframe \n",
        "\n",
        "result=pd.DataFrame(list(zip(unique,simlarity)),columns =['Unique_ID','Similarity_Score'],index=None) \n"
      ],
      "execution_count": 0,
      "outputs": []
    },
    {
      "cell_type": "code",
      "metadata": {
        "id": "4TirtShMYMLn",
        "colab_type": "code",
        "colab": {}
      },
      "source": [
        "# Storing result in a csv file\n",
        "result.to_csv('Similarity_Scores.csv')"
      ],
      "execution_count": 0,
      "outputs": []
    },
    {
      "cell_type": "code",
      "metadata": {
        "id": "BuDyeTywtQLR",
        "colab_type": "code",
        "colab": {}
      },
      "source": [
        ""
      ],
      "execution_count": 0,
      "outputs": []
    }
  ]
}